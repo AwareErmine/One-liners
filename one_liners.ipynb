{
 "cells": [
  {
   "cell_type": "markdown",
   "metadata": {},
   "source": [
    "## Lambda was a mistake"
   ]
  },
  {
   "cell_type": "markdown",
   "metadata": {},
   "source": [
    "## **Math**"
   ]
  },
  {
   "cell_type": "code",
   "execution_count": 10,
   "metadata": {},
   "outputs": [
    {
     "data": {
      "text/plain": [
       "720"
      ]
     },
     "execution_count": 10,
     "metadata": {},
     "output_type": "execute_result"
    }
   ],
   "source": [
    "(factorial := lambda num, total=1 : total if not num else factorial((num-1 if num > 0 else num+1), total=total*num))(-6)"
   ]
  },
  {
   "cell_type": "code",
   "execution_count": 1,
   "metadata": {},
   "outputs": [
    {
     "data": {
      "text/plain": [
       "(0.5, -3.0)"
      ]
     },
     "execution_count": 1,
     "metadata": {},
     "output_type": "execute_result"
    }
   ],
   "source": [
    "(quadratic := lambda a, b, c : (((-b + (chunk := ((b ** 2) - (4 * a * c)) ** 0.5))/(2*a)), ((-b - chunk)/(2*a))))(2, 5, -3)"
   ]
  },
  {
   "cell_type": "markdown",
   "metadata": {},
   "source": [
    "## **Fizzbuzz**"
   ]
  },
  {
   "cell_type": "code",
   "execution_count": 11,
   "metadata": {},
   "outputs": [
    {
     "name": "stdout",
     "output_type": "stream",
     "text": [
      "['Zazz', 'Zazz', 'FizzZazz', 'Zazz', 'BuzzZazz', 'FizzZazz', 'Zazz', 'Zazz', 'FizzZazz', 'Buzz', 11, 'Fizz', 13, 14, 'FizzBuzz', 16, 17, 'Fizz', 19, 'Buzz', 'Fizz', 22, 23, 'Fizz', 'Buzz', 26, 'Fizz', 28, 29, 'FizzBuzz', 31, 32, 'Fizz', 34, 'Buzz', 'Fizz', 37, 38, 'Fizz', 'Buzz', 41, 'Fizz', 43, 44, 'FizzBuzz', 46, 47, 'Fizz', 49, 'Buzz', 'Fizz', 52, 53, 'Fizz', 'Buzz', 56, 'Fizz', 58, 59, 'FizzBuzz', 61, 62, 'Fizz', 64, 'Buzz', 'Fizz', 67, 68, 'Fizz', 'Buzz', 71, 'Fizz', 73, 74, 'FizzBuzz', 76, 77, 'Fizz', 79, 'Buzz', 'Fizz', 82, 83, 'Fizz', 'Buzz', 86, 'Fizz', 88, 89, 'FizzBuzz', 91, 92, 'Fizz', 94, 'Buzz', 'Fizz', 97, 98, 'Fizz']\n"
     ]
    }
   ],
   "source": [
    "print((fizzBuzz := lambda the_range, triggers: list(map(lambda i: \"\".join([text*trigger(i) for text, trigger in triggers]) or i, the_range)))(range(1, 100), [[\"Fizz\", lambda i:(i%3==0)], [\"Buzz\", lambda i:(i%5==0)], [\"Zazz\", lambda i:i<10],]))"
   ]
  },
  {
   "cell_type": "code",
   "execution_count": 5,
   "metadata": {},
   "outputs": [
    {
     "name": "stdout",
     "output_type": "stream",
     "text": [
      "['Zazz', 'Zazz', 'FizzZazz', 'Zazz', 'BuzzZazz', 'FizzZazz', 'Zazz', 'Zazz', 'FizzZazz', 'Buzz', 11, 'Fizz', 13, 14, 'FizzBuzz', 16, 17, 'Fizz', 19, 'Buzz', 'Fizz', 22, 23, 'Fizz', 'Buzz', 26, 'Fizz', 28, 29, 'FizzBuzz', 31, 32, 'Fizz', 34, 'Buzz', 'Fizz', 37, 38, 'Fizz', 'Buzz', 41, 'Fizz', 43, 44, 'FizzBuzz', 46, 47, 'Fizz', 49, 'Buzz', 'Fizz', 52, 53, 'Fizz', 'Buzz', 56, 'Fizz', 58, 59, 'FizzBuzz', 61, 62, 'Fizz', 64, 'Buzz', 'Fizz', 67, 68, 'Fizz', 'Buzz', 71, 'Fizz', 73, 74, 'FizzBuzz', 76, 77, 'Fizz', 79, 'Buzz', 'Fizz', 82, 83, 'Fizz', 'Buzz', 86, 'Fizz', 88, 89, 'FizzBuzz', 91, 92, 'Fizz', 94, 'Buzz', 'Fizz', 97, 98, 'Fizz']\n"
     ]
    }
   ],
   "source": [
    "print((fizzBuzz := lambda the_range, triggers: list(map(\n",
    "        lambda i: \"\".join([\n",
    "            text*trigger(i) # \"string\"*True = \"string\"; \"string\"*False = \"\"\n",
    "            for text, trigger in triggers.items()\n",
    "        ]) or i, # Adds the number to the list if none of the triggers triggered\n",
    "        the_range  \n",
    "    )))( # Calling it immediately \n",
    "    range(1, 100), # The range \n",
    "    {\n",
    "        \"Fizz\": (lambda i:(i%3==0)),\n",
    "        \"Buzz\": (lambda i:(i%5==0)),\n",
    "        \"Zazz\": (lambda i:i<10),\n",
    "    }\n",
    "))"
   ]
  },
  {
   "cell_type": "markdown",
   "metadata": {},
   "source": [
    "## **Morse code**"
   ]
  },
  {
   "cell_type": "code",
   "execution_count": 15,
   "metadata": {},
   "outputs": [
    {
     "name": "stdout",
     "output_type": "stream",
     "text": [
      "{'A': '.-', 'B': '-...', 'C': '-.-.', 'D': '-..', 'E': '.', 'F': '..-.', 'G': '--.', 'H': '....', 'I': '..', 'J': '.---', 'K': '-.-', 'L': '.-..', 'M': '--', 'N': '-.', 'O': '---', 'P': '.--.', 'Q': '--.-', 'R': '.-.', 'S': '...', 'T': '-', 'U': '..-', 'V': '...-', 'W': '.--', 'X': '-..-', 'Y': '-.--', 'Z': '--..', ' ': '.....'} {'.-': 'A', '-...': 'B', '-.-.': 'C', '-..': 'D', '.': 'E', '..-.': 'F', '--.': 'G', '....': 'H', '..': 'I', '.---': 'J', '-.-': 'K', '.-..': 'L', '--': 'M', '-.': 'N', '---': 'O', '.--.': 'P', '--.-': 'Q', '.-.': 'R', '...': 'S', '-': 'T', '..-': 'U', '...-': 'V', '.--': 'W', '-..-': 'X', '-.--': 'Y', '--..': 'Z', '.....': ' '} HIII!!!!\n"
     ]
    }
   ],
   "source": [
    "print(d := { 'A':'.-','B':'-...','C':'-.-.','D':'-..', 'E':'.', 'F':'..-.','G':'--.','H':'....', 'I':'..','J':'.---', 'K':'-.-','L':'.-..', 'M':'--','N':'-.','O':'---', 'P':'.--.', 'Q':'--.-','R':'.-.','S':'...','T':'-', 'U':'..-','V':'...-','W':'.--','X':'-..-', 'Y':'-.--', 'Z':'--..', ' ':'.....'}, und := {y:x for x,y in d.items()}, (morse := lambda text, encode=True : \" \".join(list(map(lambda char : d[char] if char in d else char, text.upper()))) if encode else \"\".join(list(map(lambda char : und[char] if char in und else char, text.upper().split(\" \")))))(\".... .. .. .. ! ! ! !\", encode=False))"
   ]
  },
  {
   "cell_type": "code",
   "execution_count": 43,
   "metadata": {},
   "outputs": [
    {
     "data": {
      "text/plain": [
       "({'A': '.-',\n",
       "  'B': '-...',\n",
       "  'C': '-.-.',\n",
       "  'D': '-..',\n",
       "  'E': '.',\n",
       "  'F': '..-.',\n",
       "  'G': '--.',\n",
       "  'H': '....',\n",
       "  'I': '..',\n",
       "  'J': '.---',\n",
       "  'K': '-.-',\n",
       "  'L': '.-..',\n",
       "  'M': '--',\n",
       "  'N': '-.',\n",
       "  'O': '---',\n",
       "  'P': '.--.',\n",
       "  'Q': '--.-',\n",
       "  'R': '.-.',\n",
       "  'S': '...',\n",
       "  'T': '-',\n",
       "  'U': '..-',\n",
       "  'V': '...-',\n",
       "  'W': '.--',\n",
       "  'X': '-..-',\n",
       "  'Y': '-.--',\n",
       "  'Z': '--..',\n",
       "  ' ': '.....'},\n",
       " {'.-': 'A',\n",
       "  '-...': 'B',\n",
       "  '-.-.': 'C',\n",
       "  '-..': 'D',\n",
       "  '.': 'E',\n",
       "  '..-.': 'F',\n",
       "  '--.': 'G',\n",
       "  '....': 'H',\n",
       "  '..': 'I',\n",
       "  '.---': 'J',\n",
       "  '-.-': 'K',\n",
       "  '.-..': 'L',\n",
       "  '--': 'M',\n",
       "  '-.': 'N',\n",
       "  '---': 'O',\n",
       "  '.--.': 'P',\n",
       "  '--.-': 'Q',\n",
       "  '.-.': 'R',\n",
       "  '...': 'S',\n",
       "  '-': 'T',\n",
       "  '..-': 'U',\n",
       "  '...-': 'V',\n",
       "  '.--': 'W',\n",
       "  '-..-': 'X',\n",
       "  '-.--': 'Y',\n",
       "  '--..': 'Z',\n",
       "  '.....': ' '},\n",
       " 'HOW/MUCH/TECH/WOULD/A/TECHHACKS/HACK/IF/A/TECHHACKS/COULD/HACK/TECH?')"
      ]
     },
     "execution_count": 43,
     "metadata": {},
     "output_type": "execute_result"
    }
   ],
   "source": [
    "(\n",
    "    d := { \n",
    "        'A':'.-','B':'-...','C':'-.-.','D':'-..',\n",
    "        'E':'.', 'F':'..-.','G':'--.','H':'....',\n",
    "        'I':'..','J':'.---', 'K':'-.-','L':'.-..',\n",
    "        'M':'--','N':'-.','O':'---', 'P':'.--.',\n",
    "        'Q':'--.-','R':'.-.','S':'...','T':'-', \n",
    "        'U':'..-','V':'...-','W':'.--','X':'-..-',\n",
    "        'Y':'-.--', 'Z':'--..', ' ':'.....'\n",
    "    }, \n",
    "    und := {y:x for x, y in d.items()}, \n",
    "    (\n",
    "        morse := lambda text, encode=True : \" \".join(list(map( \n",
    "            lambda char : d[char] if char in d else char, text.upper() \n",
    "        ))) if encode else \"\".join(list(map(\n",
    "            lambda char : und[char] if char in und else char, text.upper().split(\" \")\n",
    "        )))\n",
    "    )(\".... --- .-- / -- ..- -.-. .... / - . -.-. .... / .-- --- ..- .-.. -.. / .- / - . -.-. .... .... .- -.-. -.- ... / .... .- -.-. -.- / .. ..-. / .- / - . -.-. .... .... .- -.-. -.- ... / -.-. --- ..- .-.. -.. / .... .- -.-. -.- / - . -.-. .... ?\", encode=False)\n",
    ")"
   ]
  },
  {
   "cell_type": "markdown",
   "metadata": {},
   "source": [
    "## Letters to numbers"
   ]
  },
  {
   "cell_type": "code",
   "execution_count": 36,
   "metadata": {},
   "outputs": [
    {
     "data": {
      "text/plain": [
       "'19-4-18-19-8-13-6-.-.-14-10'"
      ]
     },
     "execution_count": 36,
     "metadata": {},
     "output_type": "execute_result"
    }
   ],
   "source": [
    "# assigning it to msg to try decrypying with the funct\n",
    "(msg := (translate := lambda letters, cipher: \"-\".join([cipher[lower_letter] if (lower_letter := letter.lower()) in cipher else '.' for letter in letters]))('Testing? ok', {letter : str(i) for i, letter in enumerate(__import__('string').ascii_lowercase)}))"
   ]
  },
  {
   "cell_type": "code",
   "execution_count": 37,
   "metadata": {},
   "outputs": [
    {
     "data": {
      "text/plain": [
       "'19-4-18-19-8-13-6-.-.-14-10'"
      ]
     },
     "execution_count": 37,
     "metadata": {},
     "output_type": "execute_result"
    }
   ],
   "source": [
    "(\n",
    "    translate := lambda letters, cipher: \"-\".join([\n",
    "        cipher[lower_letter] if (lower_letter := letter.lower()) in cipher else '.'\n",
    "        for letter in letters\n",
    "    ])\n",
    ")(\n",
    "    'Testing? ok', \n",
    "    {\n",
    "        letter : str(i)\n",
    "        for i, letter in enumerate(__import__('string').ascii_lowercase)\n",
    "    }\n",
    ")"
   ]
  },
  {
   "cell_type": "code",
   "execution_count": 38,
   "metadata": {},
   "outputs": [
    {
     "data": {
      "text/plain": [
       "'testing..ok'"
      ]
     },
     "execution_count": 38,
     "metadata": {},
     "output_type": "execute_result"
    }
   ],
   "source": [
    "translate(\n",
    "    msg.split('-'),\n",
    "    {\n",
    "        str(i) : letter\n",
    "        for i, letter in enumerate(__import__('string').ascii_lowercase)\n",
    "    }\n",
    ").replace('-', '') # shh it bothered me"
   ]
  },
  {
   "cell_type": "markdown",
   "metadata": {},
   "source": [
    "## Binary search"
   ]
  },
  {
   "cell_type": "code",
   "execution_count": 44,
   "metadata": {},
   "outputs": [
    {
     "data": {
      "text/plain": [
       "1"
      ]
     },
     "execution_count": 44,
     "metadata": {},
     "output_type": "execute_result"
    }
   ],
   "source": [
    "(binary_search := lambda w, wlist, operations=0: -1 if not len(wlist) else operations if (mid := wlist[len(wlist)//2]) == w else binary_search(w, (wlist[:len(wlist)//2] if (mid > w) else wlist[(len(wlist)//2)+1:]), operations=operations+1))(\"b\", [\"a\", \"b\", \"c\", \"d\"])"
   ]
  },
  {
   "cell_type": "code",
   "execution_count": 45,
   "metadata": {},
   "outputs": [
    {
     "data": {
      "text/plain": [
       "1"
      ]
     },
     "execution_count": 45,
     "metadata": {},
     "output_type": "execute_result"
    }
   ],
   "source": [
    "(\n",
    "    binary_search := lambda w, wlist, operations=0: \n",
    "        -1 if not len(wlist)\n",
    "        else operations if (mid := wlist[len(wlist)//2]) == w\n",
    "        else binary_search(\n",
    "            w, \n",
    "            (\n",
    "                wlist[:len(wlist)//2] if (mid > w)\n",
    "                else wlist[(len(wlist)//2)+1:]\n",
    "            ),\n",
    "            operations=operations+1\n",
    "))(\"b\", [\"a\", \"b\", \"c\", \"d\"])"
   ]
  },
  {
   "cell_type": "markdown",
   "metadata": {},
   "source": [
    "## How many 100s to make up a bad grade"
   ]
  },
  {
   "cell_type": "code",
   "execution_count": 2,
   "metadata": {},
   "outputs": [
    {
     "data": {
      "text/plain": [
       "5"
      ]
     },
     "execution_count": 2,
     "metadata": {},
     "output_type": "execute_result"
    }
   ],
   "source": [
    "(make_up := lambda bad, desired, hundreds=0: hundreds if bad >= desired else f\"Suck it up you'll get {round(bad, 3)}\" if hundreds >= 10 else make_up((bad+100)/2, desired, hundreds=hundreds+1))(50, 98)"
   ]
  },
  {
   "cell_type": "code",
   "execution_count": 13,
   "metadata": {},
   "outputs": [
    {
     "data": {
      "text/plain": [
       "5"
      ]
     },
     "execution_count": 13,
     "metadata": {},
     "output_type": "execute_result"
    }
   ],
   "source": [
    "(\n",
    "    make_up := lambda bad, desired, hundreds=0: \n",
    "        hundreds if round(bad) >= desired \n",
    "        else f\"Suck it up you'll get {round(bad, 2)} instead of {desired}\" if hundreds >= 10 \n",
    "        else make_up((bad+100)/2, desired, hundreds=hundreds+1)\n",
    ")(50, 98)"
   ]
  },
  {
   "cell_type": "markdown",
   "metadata": {},
   "source": [
    "## Capitalize the first letter of every word in a sentence"
   ]
  },
  {
   "cell_type": "code",
   "execution_count": 1,
   "metadata": {},
   "outputs": [],
   "source": [
    "capitalize = lambda words: ' '.join([\n",
    "    chr((the_ord := ord(word[0])) - (32 if the_ord in range(97, 123) else 0)) + word[1:]\n",
    "    for word in words.split(' ')\n",
    "])"
   ]
  },
  {
   "cell_type": "code",
   "execution_count": 10,
   "metadata": {},
   "outputs": [
    {
     "data": {
      "text/plain": [
       "'Capitalize The First Letter Of Every Word In A Sentence'"
      ]
     },
     "execution_count": 10,
     "metadata": {},
     "output_type": "execute_result"
    }
   ],
   "source": [
    "(capitalize := lambda words: ' '.join([chr((the_ord := ord(word[0])) - (32 if the_ord in range(97, 123) else 0)) + word[1:] for word in words.split()]))(\"Capitalize the First letter Of every word in a sentence\")"
   ]
  },
  {
   "cell_type": "code",
   "execution_count": 13,
   "metadata": {},
   "outputs": [],
   "source": [
    "capitalize = lambda words: ' '.join([chr((the_ord := ord(word[0])) - 32) + word[1:] for word in words.split()])"
   ]
  },
  {
   "cell_type": "markdown",
   "metadata": {},
   "source": [
    "## Number of days since birth"
   ]
  },
  {
   "cell_type": "code",
   "execution_count": 6,
   "metadata": {},
   "outputs": [],
   "source": [
    "AgeInDays = lambda year, month, day: ((date := __import__('datetime').date).today() - date(year, month, day)).days + 1 # +1 because he wants it to be inclusive for some reason"
   ]
  },
  {
   "cell_type": "markdown",
   "metadata": {},
   "source": [
    "## RPS"
   ]
  },
  {
   "cell_type": "code",
   "execution_count": 5,
   "metadata": {},
   "outputs": [
    {
     "data": {
      "text/plain": [
       "'I win'"
      ]
     },
     "execution_count": 5,
     "metadata": {},
     "output_type": "execute_result"
    }
   ],
   "source": [
    "(lambda choice: \"Tie!\" if (random_pick := 'rps'[__import__('random').randint(0, 2)]) == choice else 'I win' if {'r':'s', 'p':'r', 's':'p'}[random_pick] == choice else \"No\" if choice not in 'rps' else \"You win\")('r')"
   ]
  },
  {
   "cell_type": "markdown",
   "metadata": {},
   "source": [
    "## Frame a line in a box"
   ]
  },
  {
   "cell_type": "code",
   "execution_count": 6,
   "metadata": {},
   "outputs": [],
   "source": [
    "# It's a *stylistic choice* not to use string formatting \n",
    "frame = lambda words: '*' * ((length := max(*[len(word) for word in words])) + 4) + '\\n' + '\\n'.join(['* ' + word + ' ' * (length - len(word)) + ' *' for word in words]) + '\\n' + '*' * (length + 4)"
   ]
  },
  {
   "cell_type": "code",
   "execution_count": 9,
   "metadata": {},
   "outputs": [
    {
     "name": "stdout",
     "output_type": "stream",
     "text": [
      "*************\n",
      "* Partial   *\n",
      "* credit    *\n",
      "* to        *\n",
      "* Sqrrlz    *\n",
      "* team;     *\n",
      "* Dashiell, *\n",
      "* Ramon,    *\n",
      "* and       *\n",
      "* Santiago  *\n",
      "*************\n"
     ]
    }
   ],
   "source": [
    "print(frame(\"Partial credit to Sqrrlz team; Dashiell, Ramon, and Santiago\".split())) # Alphabetical order shh"
   ]
  },
  {
   "cell_type": "code",
   "execution_count": null,
   "metadata": {},
   "outputs": [],
   "source": []
  }
 ],
 "metadata": {
  "kernelspec": {
   "display_name": "Python 3",
   "language": "python",
   "name": "python3"
  },
  "language_info": {
   "codemirror_mode": {
    "name": "ipython",
    "version": 3
   },
   "file_extension": ".py",
   "mimetype": "text/x-python",
   "name": "python",
   "nbconvert_exporter": "python",
   "pygments_lexer": "ipython3",
   "version": "3.9.1"
  }
 },
 "nbformat": 4,
 "nbformat_minor": 4
}
